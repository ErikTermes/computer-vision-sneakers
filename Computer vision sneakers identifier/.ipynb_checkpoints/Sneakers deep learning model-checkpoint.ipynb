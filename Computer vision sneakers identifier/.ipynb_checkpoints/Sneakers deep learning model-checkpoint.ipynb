{
 "cells": [
  {
   "cell_type": "code",
   "execution_count": 1,
   "metadata": {},
   "outputs": [],
   "source": [
    "import numpy as np\n",
    "import pandas as pd\n",
    "import matplotlib.pyplot as plt"
   ]
  },
  {
   "cell_type": "code",
   "execution_count": 4,
   "metadata": {},
   "outputs": [],
   "source": [
    "import tensorflow as tf\n",
    "from tensorflow.keras.datasets import cifar10\n",
    "from tensorflow.keras.preprocessing.image import ImageDataGenerator\n",
    "from tensorflow.keras.models import Sequential\n",
    "from tensorflow.keras.layers import Dense, Dropout, Activation, Flatten, Conv2D, MaxPooling2D"
   ]
  },
  {
   "cell_type": "code",
   "execution_count": 271,
   "metadata": {},
   "outputs": [],
   "source": [
    "# config to train model using gpu"
   ]
  },
  {
   "cell_type": "code",
   "execution_count": 275,
   "metadata": {},
   "outputs": [],
   "source": [
    "import pickle\n",
    "\n",
    "X = pickle.load(open('X.pickle', 'rb'))\n",
    "y = pickle.load(open('y.pickle', 'rb'))"
   ]
  },
  {
   "cell_type": "code",
   "execution_count": 239,
   "metadata": {},
   "outputs": [
    {
     "data": {
      "text/plain": [
       "numpy.ndarray"
      ]
     },
     "execution_count": 239,
     "metadata": {},
     "output_type": "execute_result"
    }
   ],
   "source": [
    "type(X[0])"
   ]
  },
  {
   "cell_type": "code",
   "execution_count": 276,
   "metadata": {},
   "outputs": [],
   "source": [
    "sneakers = pd.read_csv('sneakers.csv')"
   ]
  },
  {
   "cell_type": "code",
   "execution_count": 277,
   "metadata": {},
   "outputs": [],
   "source": [
    "y = np.where(y == 'nike', 0, y)"
   ]
  },
  {
   "cell_type": "code",
   "execution_count": 278,
   "metadata": {},
   "outputs": [],
   "source": [
    "y = np.where(y == 'adidas', 1, y)"
   ]
  },
  {
   "cell_type": "code",
   "execution_count": 279,
   "metadata": {},
   "outputs": [
    {
     "data": {
      "text/plain": [
       "array(['nike', 'nike', 'nike', ..., '1', '1', '1'], dtype='<U6')"
      ]
     },
     "execution_count": 279,
     "metadata": {},
     "output_type": "execute_result"
    }
   ],
   "source": [
    "y"
   ]
  },
  {
   "cell_type": "code",
   "execution_count": 280,
   "metadata": {},
   "outputs": [],
   "source": [
    "# nike = 0, adidas = 1"
   ]
  },
  {
   "cell_type": "code",
   "execution_count": 281,
   "metadata": {
    "scrolled": true
   },
   "outputs": [
    {
     "data": {
      "text/html": [
       "<div>\n",
       "<style scoped>\n",
       "    .dataframe tbody tr th:only-of-type {\n",
       "        vertical-align: middle;\n",
       "    }\n",
       "\n",
       "    .dataframe tbody tr th {\n",
       "        vertical-align: top;\n",
       "    }\n",
       "\n",
       "    .dataframe thead th {\n",
       "        text-align: right;\n",
       "    }\n",
       "</style>\n",
       "<table border=\"1\" class=\"dataframe\">\n",
       "  <thead>\n",
       "    <tr style=\"text-align: right;\">\n",
       "      <th></th>\n",
       "      <th>Unnamed: 0</th>\n",
       "      <th>brand</th>\n",
       "      <th>name</th>\n",
       "      <th>price</th>\n",
       "      <th>image</th>\n",
       "    </tr>\n",
       "  </thead>\n",
       "  <tbody>\n",
       "    <tr>\n",
       "      <th>0</th>\n",
       "      <td>0</td>\n",
       "      <td>nike</td>\n",
       "      <td>AIR FORCE 1 '07 - Trainers - black</td>\n",
       "      <td>£74.99</td>\n",
       "      <td>[[[246 246 246]\\n  [246 246 246]\\n  [246 246 2...</td>\n",
       "    </tr>\n",
       "    <tr>\n",
       "      <th>1</th>\n",
       "      <td>1</td>\n",
       "      <td>nike</td>\n",
       "      <td>AIR MAX 2090 - Trainers - black/white/wolf gre...</td>\n",
       "      <td>£77.99</td>\n",
       "      <td>[[[246 246 246]\\n  [246 246 246]\\n  [246 246 2...</td>\n",
       "    </tr>\n",
       "    <tr>\n",
       "      <th>2</th>\n",
       "      <td>2</td>\n",
       "      <td>nike</td>\n",
       "      <td>AIR FORCE 1 ’07 AN20  - Trainers - black/white</td>\n",
       "      <td>£89.99</td>\n",
       "      <td>[[[246 246 246]\\n  [246 246 246]\\n  [246 246 2...</td>\n",
       "    </tr>\n",
       "  </tbody>\n",
       "</table>\n",
       "</div>"
      ],
      "text/plain": [
       "   Unnamed: 0 brand                                               name  \\\n",
       "0           0  nike                 AIR FORCE 1 '07 - Trainers - black   \n",
       "1           1  nike  AIR MAX 2090 - Trainers - black/white/wolf gre...   \n",
       "2           2  nike     AIR FORCE 1 ’07 AN20  - Trainers - black/white   \n",
       "\n",
       "     price                                              image  \n",
       "0   £74.99  [[[246 246 246]\\n  [246 246 246]\\n  [246 246 2...  \n",
       "1   £77.99  [[[246 246 246]\\n  [246 246 246]\\n  [246 246 2...  \n",
       "2   £89.99  [[[246 246 246]\\n  [246 246 246]\\n  [246 246 2...  "
      ]
     },
     "execution_count": 281,
     "metadata": {},
     "output_type": "execute_result"
    }
   ],
   "source": [
    "sneakers.head(3)"
   ]
  },
  {
   "cell_type": "code",
   "execution_count": 282,
   "metadata": {},
   "outputs": [],
   "source": [
    "sneakers['brand'].replace(to_replace='nike', value=0, inplace = True)"
   ]
  },
  {
   "cell_type": "code",
   "execution_count": 283,
   "metadata": {},
   "outputs": [],
   "source": [
    "sneakers['brand'].replace(to_replace='adidas', value=1, inplace = True)"
   ]
  },
  {
   "cell_type": "code",
   "execution_count": 284,
   "metadata": {},
   "outputs": [],
   "source": [
    "import matplotlib.pyplot as plt"
   ]
  },
  {
   "cell_type": "code",
   "execution_count": 285,
   "metadata": {},
   "outputs": [
    {
     "data": {
      "image/png": "[encoded data removed]",
      "text/plain": [
       "<Figure size 432x288 with 1 Axes>"
      ]
     },
     "metadata": {
      "needs_background": "light"
     },
     "output_type": "display_data"
    }
   ],
   "source": [
    "plt.imshow(X[980])\n",
    "plt.show()"
   ]
  },
  {
   "cell_type": "code",
   "execution_count": 286,
   "metadata": {
    "scrolled": true
   },
   "outputs": [
    {
     "data": {
      "text/html": [
       "<div>\n",
       "<style scoped>\n",
       "    .dataframe tbody tr th:only-of-type {\n",
       "        vertical-align: middle;\n",
       "    }\n",
       "\n",
       "    .dataframe tbody tr th {\n",
       "        vertical-align: top;\n",
       "    }\n",
       "\n",
       "    .dataframe thead th {\n",
       "        text-align: right;\n",
       "    }\n",
       "</style>\n",
       "<table border=\"1\" class=\"dataframe\">\n",
       "  <thead>\n",
       "    <tr style=\"text-align: right;\">\n",
       "      <th></th>\n",
       "      <th>Unnamed: 0</th>\n",
       "      <th>brand</th>\n",
       "      <th>name</th>\n",
       "      <th>price</th>\n",
       "      <th>image</th>\n",
       "    </tr>\n",
       "  </thead>\n",
       "  <tbody>\n",
       "    <tr>\n",
       "      <th>0</th>\n",
       "      <td>0</td>\n",
       "      <td>0</td>\n",
       "      <td>AIR FORCE 1 '07 - Trainers - black</td>\n",
       "      <td>£74.99</td>\n",
       "      <td>[[[246 246 246]\\n  [246 246 246]\\n  [246 246 2...</td>\n",
       "    </tr>\n",
       "    <tr>\n",
       "      <th>1</th>\n",
       "      <td>1</td>\n",
       "      <td>0</td>\n",
       "      <td>AIR MAX 2090 - Trainers - black/white/wolf gre...</td>\n",
       "      <td>£77.99</td>\n",
       "      <td>[[[246 246 246]\\n  [246 246 246]\\n  [246 246 2...</td>\n",
       "    </tr>\n",
       "    <tr>\n",
       "      <th>2</th>\n",
       "      <td>2</td>\n",
       "      <td>0</td>\n",
       "      <td>AIR FORCE 1 ’07 AN20  - Trainers - black/white</td>\n",
       "      <td>£89.99</td>\n",
       "      <td>[[[246 246 246]\\n  [246 246 246]\\n  [246 246 2...</td>\n",
       "    </tr>\n",
       "    <tr>\n",
       "      <th>3</th>\n",
       "      <td>3</td>\n",
       "      <td>0</td>\n",
       "      <td>AIR MAX 2090 - Trainers - white/black/wolf gre...</td>\n",
       "      <td>£65.00</td>\n",
       "      <td>[[[246 246 246]\\n  [246 246 246]\\n  [246 246 2...</td>\n",
       "    </tr>\n",
       "    <tr>\n",
       "      <th>4</th>\n",
       "      <td>4</td>\n",
       "      <td>0</td>\n",
       "      <td>AIR MAX 90 - Trainers - black/white/metallic s...</td>\n",
       "      <td>£112.49</td>\n",
       "      <td>[[[243 243 243]\\n  [243 243 243]\\n  [243 243 2...</td>\n",
       "    </tr>\n",
       "    <tr>\n",
       "      <th>...</th>\n",
       "      <td>...</td>\n",
       "      <td>...</td>\n",
       "      <td>...</td>\n",
       "      <td>...</td>\n",
       "      <td>...</td>\n",
       "    </tr>\n",
       "    <tr>\n",
       "      <th>2011</th>\n",
       "      <td>2011</td>\n",
       "      <td>1</td>\n",
       "      <td>NITE JOGGER - Trainers - footwear white/core b...</td>\n",
       "      <td>£63.24</td>\n",
       "      <td>[[[246 246 246]\\n  [246 246 246]\\n  [246 246 2...</td>\n",
       "    </tr>\n",
       "    <tr>\n",
       "      <th>2012</th>\n",
       "      <td>2012</td>\n",
       "      <td>1</td>\n",
       "      <td>GAZELLE - Trainers - collegiate navy/glow blue...</td>\n",
       "      <td>£56.99</td>\n",
       "      <td>[[[246 246 246]\\n  [246 246 246]\\n  [246 246 2...</td>\n",
       "    </tr>\n",
       "    <tr>\n",
       "      <th>2013</th>\n",
       "      <td>2013</td>\n",
       "      <td>1</td>\n",
       "      <td>YUNG-1 - Trainers - footwear white/gloe green/...</td>\n",
       "      <td>From £67.49</td>\n",
       "      <td>[[[241 241 241]\\n  [241 241 241]\\n  [241 241 2...</td>\n",
       "    </tr>\n",
       "    <tr>\n",
       "      <th>2014</th>\n",
       "      <td>2014</td>\n",
       "      <td>1</td>\n",
       "      <td>ADI-EASE - Trainers - dash green/chalk white</td>\n",
       "      <td>£47.99</td>\n",
       "      <td>[[[241 241 241]\\n  [241 241 241]\\n  [241 241 2...</td>\n",
       "    </tr>\n",
       "    <tr>\n",
       "      <th>2015</th>\n",
       "      <td>2015</td>\n",
       "      <td>1</td>\n",
       "      <td>TEAM COURT - Trainers - footwear white/collegi...</td>\n",
       "      <td>£55.99</td>\n",
       "      <td>[[[246 246 246]\\n  [246 246 246]\\n  [246 246 2...</td>\n",
       "    </tr>\n",
       "  </tbody>\n",
       "</table>\n",
       "<p>2016 rows × 5 columns</p>\n",
       "</div>"
      ],
      "text/plain": [
       "      Unnamed: 0  brand                                               name  \\\n",
       "0              0      0                 AIR FORCE 1 '07 - Trainers - black   \n",
       "1              1      0  AIR MAX 2090 - Trainers - black/white/wolf gre...   \n",
       "2              2      0     AIR FORCE 1 ’07 AN20  - Trainers - black/white   \n",
       "3              3      0  AIR MAX 2090 - Trainers - white/black/wolf gre...   \n",
       "4              4      0  AIR MAX 90 - Trainers - black/white/metallic s...   \n",
       "...          ...    ...                                                ...   \n",
       "2011        2011      1  NITE JOGGER - Trainers - footwear white/core b...   \n",
       "2012        2012      1  GAZELLE - Trainers - collegiate navy/glow blue...   \n",
       "2013        2013      1  YUNG-1 - Trainers - footwear white/gloe green/...   \n",
       "2014        2014      1       ADI-EASE - Trainers - dash green/chalk white   \n",
       "2015        2015      1  TEAM COURT - Trainers - footwear white/collegi...   \n",
       "\n",
       "             price                                              image  \n",
       "0           £74.99  [[[246 246 246]\\n  [246 246 246]\\n  [246 246 2...  \n",
       "1           £77.99  [[[246 246 246]\\n  [246 246 246]\\n  [246 246 2...  \n",
       "2           £89.99  [[[246 246 246]\\n  [246 246 246]\\n  [246 246 2...  \n",
       "3           £65.00  [[[246 246 246]\\n  [246 246 246]\\n  [246 246 2...  \n",
       "4          £112.49  [[[243 243 243]\\n  [243 243 243]\\n  [243 243 2...  \n",
       "...            ...                                                ...  \n",
       "2011        £63.24  [[[246 246 246]\\n  [246 246 246]\\n  [246 246 2...  \n",
       "2012        £56.99  [[[246 246 246]\\n  [246 246 246]\\n  [246 246 2...  \n",
       "2013   From £67.49  [[[241 241 241]\\n  [241 241 241]\\n  [241 241 2...  \n",
       "2014        £47.99  [[[241 241 241]\\n  [241 241 241]\\n  [241 241 2...  \n",
       "2015        £55.99  [[[246 246 246]\\n  [246 246 246]\\n  [246 246 2...  \n",
       "\n",
       "[2016 rows x 5 columns]"
      ]
     },
     "execution_count": 286,
     "metadata": {},
     "output_type": "execute_result"
    }
   ],
   "source": [
    "sneakers"
   ]
  },
  {
   "cell_type": "code",
   "execution_count": 287,
   "metadata": {},
   "outputs": [],
   "source": [
    "y = sneakers['brand'].values"
   ]
  },
  {
   "cell_type": "code",
   "execution_count": 288,
   "metadata": {},
   "outputs": [
    {
     "data": {
      "text/plain": [
       "numpy.ndarray"
      ]
     },
     "execution_count": 288,
     "metadata": {},
     "output_type": "execute_result"
    }
   ],
   "source": [
    "type(y)"
   ]
  },
  {
   "cell_type": "code",
   "execution_count": 289,
   "metadata": {},
   "outputs": [],
   "source": [
    "from sklearn.model_selection import train_test_split\n",
    "\n",
    "# Split the data\n",
    "X_train, X_test, y_train, y_test = train_test_split(X, y, test_size=0.25, shuffle= True)"
   ]
  },
  {
   "cell_type": "markdown",
   "metadata": {},
   "source": [
    "## With validation split"
   ]
  },
  {
   "cell_type": "code",
   "execution_count": 290,
   "metadata": {
    "scrolled": true
   },
   "outputs": [
    {
     "name": "stdout",
     "output_type": "stream",
     "text": [
      "Epoch 1/3\n",
      "182/182 [==============================] - 203s 1s/step - loss: 1.8209 - accuracy: 0.5965 - val_loss: 0.4951 - val_accuracy: 0.7475\n",
      "Epoch 2/3\n",
      "182/182 [==============================] - 220s 1s/step - loss: 0.5203 - accuracy: 0.7238 - val_loss: 0.3877 - val_accuracy: 0.8663\n",
      "Epoch 3/3\n",
      "182/182 [==============================] - 216s 1s/step - loss: 0.4280 - accuracy: 0.7822 - val_loss: 0.5174 - val_accuracy: 0.7871\n"
     ]
    },
    {
     "data": {
      "text/plain": [
       "<tensorflow.python.keras.callbacks.History at 0x1fbdd02fca0>"
      ]
     },
     "execution_count": 290,
     "metadata": {},
     "output_type": "execute_result"
    }
   ],
   "source": [
    "X = X/255.0\n",
    "\n",
    "model = Sequential()\n",
    "model.add(Conv2D(64, (3,3), input_shape = (200, 200, 3)))\n",
    "model.add(Activation('relu'))\n",
    "model.add(MaxPooling2D(pool_size=(2,2)))\n",
    "\n",
    "model.add(Conv2D(64, (3,3), input_shape = (200, 200, 3)))\n",
    "model.add(Activation('relu'))\n",
    "model.add(MaxPooling2D(pool_size=(2,2)))\n",
    "\n",
    "model.add(Flatten())\n",
    "model.add(Dense(64))\n",
    "\n",
    "model.add(Dense(1))\n",
    "model.add(Activation('sigmoid'))\n",
    "\n",
    "model.compile(loss='binary_crossentropy',\n",
    "             optimizer='adam',\n",
    "             metrics=['accuracy'])\n",
    "\n",
    "model.fit(X, y, batch_size=10, epochs = 3, validation_split=0.1)"
   ]
  },
  {
   "cell_type": "code",
   "execution_count": 291,
   "metadata": {},
   "outputs": [],
   "source": [
    "# Guardar el Modelo\n",
    "from tensorflow import keras\n",
    "model.save('model7871.h5')\n",
    "\n",
    "# Recrea exactamente el mismo modelo solo desde el archivo\n",
    "\n",
    "# from tensorflow import keras\n",
    "# new_model = keras.models.load_model('model7871.h5')"
   ]
  },
  {
   "cell_type": "code",
   "execution_count": null,
   "metadata": {},
   "outputs": [],
   "source": []
  },
  {
   "cell_type": "markdown",
   "metadata": {},
   "source": [
    "## With train_test_split"
   ]
  },
  {
   "cell_type": "code",
   "execution_count": 294,
   "metadata": {},
   "outputs": [
    {
     "name": "stdout",
     "output_type": "stream",
     "text": [
      "Epoch 1/5\n",
      "303/303 [==============================] - 54s 177ms/step - loss: 80.9781 - accuracy: 0.5919 - val_loss: 0.6431 - val_accuracy: 0.6230\n",
      "Epoch 2/5\n",
      "303/303 [==============================] - 55s 182ms/step - loss: 0.5711 - accuracy: 0.7057 - val_loss: 0.6305 - val_accuracy: 0.6528\n",
      "Epoch 3/5\n",
      "303/303 [==============================] - 55s 182ms/step - loss: 0.4997 - accuracy: 0.7619 - val_loss: 0.6515 - val_accuracy: 0.6627\n",
      "Epoch 4/5\n",
      "303/303 [==============================] - 55s 181ms/step - loss: 0.4062 - accuracy: 0.8062 - val_loss: 0.6350 - val_accuracy: 0.6786\n",
      "Epoch 5/5\n",
      "303/303 [==============================] - 55s 181ms/step - loss: 0.3566 - accuracy: 0.8300 - val_loss: 0.9403 - val_accuracy: 0.6806\n"
     ]
    },
    {
     "data": {
      "text/plain": [
       "<tensorflow.python.keras.callbacks.History at 0x1fb84190130>"
      ]
     },
     "execution_count": 294,
     "metadata": {},
     "output_type": "execute_result"
    }
   ],
   "source": [
    "x_train = x_train/255.0\n",
    "\n",
    "model = Sequential()\n",
    "model.add(Conv2D(64, (3,3), input_shape = (200, 200, 3)))\n",
    "model.add(Activation('relu'))\n",
    "model.add(MaxPooling2D(pool_size=(2,2)))\n",
    "\n",
    "model.add(Conv2D(64, (3,3), input_shape = (200, 200, 3)))\n",
    "model.add(Activation('relu'))\n",
    "model.add(MaxPooling2D(pool_size=(2,2)))\n",
    "\n",
    "model.add(Flatten())\n",
    "model.add(Dense(64))\n",
    "\n",
    "model.add(Dense(1))\n",
    "model.add(Activation('sigmoid'))\n",
    "\n",
    "model.compile(loss='binary_crossentropy',\n",
    "             optimizer='adam',\n",
    "             metrics=['accuracy'])\n",
    "\n",
    "model.fit(X_train, y_train, batch_size=5, epochs = 5, validation_data=(X_test, y_test))"
   ]
  },
  {
   "cell_type": "code",
   "execution_count": 295,
   "metadata": {},
   "outputs": [],
   "source": [
    "# Guardar el Modelo\n",
    "from tensorflow import keras\n",
    "model.save('model8300.h5')\n",
    "\n",
    "# Recrea exactamente el mismo modelo solo desde el archivo\n",
    "\n",
    "# from tensorflow import keras\n",
    "# new_model = keras.models.load_model('model8300.h5')"
   ]
  },
  {
   "cell_type": "code",
   "execution_count": null,
   "metadata": {},
   "outputs": [],
   "source": []
  },
  {
   "cell_type": "code",
   "execution_count": 298,
   "metadata": {},
   "outputs": [
    {
     "name": "stdout",
     "output_type": "stream",
     "text": [
      "Model: \"sequential_43\"\n",
      "_________________________________________________________________\n",
      "Layer (type)                 Output Shape              Param #   \n",
      "=================================================================\n",
      "conv2d_84 (Conv2D)           (None, 198, 198, 64)      1792      \n",
      "_________________________________________________________________\n",
      "activation_126 (Activation)  (None, 198, 198, 64)      0         \n",
      "_________________________________________________________________\n",
      "max_pooling2d_84 (MaxPooling (None, 99, 99, 64)        0         \n",
      "_________________________________________________________________\n",
      "conv2d_85 (Conv2D)           (None, 97, 97, 64)        36928     \n",
      "_________________________________________________________________\n",
      "activation_127 (Activation)  (None, 97, 97, 64)        0         \n",
      "_________________________________________________________________\n",
      "max_pooling2d_85 (MaxPooling (None, 48, 48, 64)        0         \n",
      "_________________________________________________________________\n",
      "flatten_42 (Flatten)         (None, 147456)            0         \n",
      "_________________________________________________________________\n",
      "dense_84 (Dense)             (None, 64)                9437248   \n",
      "_________________________________________________________________\n",
      "dense_85 (Dense)             (None, 1)                 65        \n",
      "_________________________________________________________________\n",
      "activation_128 (Activation)  (None, 1)                 0         \n",
      "=================================================================\n",
      "Total params: 9,476,033\n",
      "Trainable params: 9,476,033\n",
      "Non-trainable params: 0\n",
      "_________________________________________________________________\n"
     ]
    }
   ],
   "source": [
    "model.summary()"
   ]
  },
  {
   "cell_type": "code",
   "execution_count": 292,
   "metadata": {},
   "outputs": [],
   "source": [
    "# video for the demo\n",
    "# open a link directly after loading the picture"
   ]
  },
  {
   "cell_type": "code",
   "execution_count": 272,
   "metadata": {},
   "outputs": [],
   "source": [
    "# look into scraping the link"
   ]
  },
  {
   "cell_type": "code",
   "execution_count": 269,
   "metadata": {},
   "outputs": [],
   "source": [
    "# layers"
   ]
  },
  {
   "cell_type": "code",
   "execution_count": null,
   "metadata": {},
   "outputs": [],
   "source": [
    "# pca"
   ]
  },
  {
   "cell_type": "code",
   "execution_count": 268,
   "metadata": {},
   "outputs": [],
   "source": [
    "# stop it if acc drops"
   ]
  },
  {
   "cell_type": "code",
   "execution_count": null,
   "metadata": {},
   "outputs": [],
   "source": [
    "# from tensorflow import keras\n",
    "# Guardar el Modelo\n",
    "# model.save('path_to_my_model.h5')\n",
    "# Recrea exactamente el mismo modelo solo desde el archivo\n",
    "# new_model = keras.models.load_model('path_to_my_model.h5')"
   ]
  },
  {
   "cell_type": "code",
   "execution_count": 273,
   "metadata": {},
   "outputs": [],
   "source": [
    "# explain dl flaws"
   ]
  },
  {
   "cell_type": "code",
   "execution_count": null,
   "metadata": {},
   "outputs": [],
   "source": []
  }
 ],
 "metadata": {
  "kernelspec": {
   "display_name": "Python 3",
   "language": "python",
   "name": "python3"
  },
  "language_info": {
   "codemirror_mode": {
    "name": "ipython",
    "version": 3
   },
   "file_extension": ".py",
   "mimetype": "text/x-python",
   "name": "python",
   "nbconvert_exporter": "python",
   "pygments_lexer": "ipython3",
   "version": "3.8.6"
  }
 },
 "nbformat": 4,
 "nbformat_minor": 4
}
