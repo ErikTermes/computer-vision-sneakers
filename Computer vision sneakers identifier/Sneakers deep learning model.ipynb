{
 "cells": [
  {
   "cell_type": "code",
   "execution_count": 5,
   "metadata": {},
   "outputs": [],
   "source": [
    "import numpy as np\n",
    "import pandas as pd\n",
    "import matplotlib.pyplot as plt"
   ]
  },
  {
   "cell_type": "code",
   "execution_count": 6,
   "metadata": {},
   "outputs": [],
   "source": [
    "import tensorflow as tf\n",
    "from tensorflow.keras.datasets import cifar10\n",
    "from tensorflow.keras.preprocessing.image import ImageDataGenerator\n",
    "from tensorflow.keras.models import Sequential\n",
    "from tensorflow.keras.layers import Dense, Dropout, Activation, Flatten, Conv2D, MaxPooling2D"
   ]
  },
  {
   "cell_type": "code",
   "execution_count": 7,
   "metadata": {},
   "outputs": [],
   "source": [
    "# config to train model using gpu"
   ]
  },
  {
   "cell_type": "code",
   "execution_count": 48,
   "metadata": {},
   "outputs": [],
   "source": [
    "import pickle\n",
    "\n",
    "X = pickle.load(open('X_1.pickle', 'rb'))\n",
    "y = pickle.load(open('y_1.pickle', 'rb'))"
   ]
  },
  {
   "cell_type": "code",
   "execution_count": 49,
   "metadata": {},
   "outputs": [
    {
     "data": {
      "text/plain": [
       "numpy.ndarray"
      ]
     },
     "execution_count": 49,
     "metadata": {},
     "output_type": "execute_result"
    }
   ],
   "source": [
    "type(X[0])"
   ]
  },
  {
   "cell_type": "code",
   "execution_count": 50,
   "metadata": {},
   "outputs": [],
   "source": [
    "sneakers = pd.read_csv('sneakers copy.csv')"
   ]
  },
  {
   "cell_type": "code",
   "execution_count": 54,
   "metadata": {},
   "outputs": [],
   "source": [
    "y = np.where(y == 'nike', 0, y)"
   ]
  },
  {
   "cell_type": "code",
   "execution_count": 52,
   "metadata": {},
   "outputs": [],
   "source": [
    "y = np.where(y == 'adidas', 1, y)"
   ]
  },
  {
   "cell_type": "code",
   "execution_count": 53,
   "metadata": {},
   "outputs": [
    {
     "data": {
      "text/plain": [
       "array(['nike', 'nike', 'nike', ..., '1', '1', '1'], dtype='<U6')"
      ]
     },
     "execution_count": 53,
     "metadata": {},
     "output_type": "execute_result"
    }
   ],
   "source": [
    "y"
   ]
  },
  {
   "cell_type": "code",
   "execution_count": 38,
   "metadata": {},
   "outputs": [],
   "source": [
    "# nike = 0, adidas = 1"
   ]
  },
  {
   "cell_type": "code",
   "execution_count": 55,
   "metadata": {
    "scrolled": true
   },
   "outputs": [
    {
     "data": {
      "text/html": [
       "<div>\n",
       "<style scoped>\n",
       "    .dataframe tbody tr th:only-of-type {\n",
       "        vertical-align: middle;\n",
       "    }\n",
       "\n",
       "    .dataframe tbody tr th {\n",
       "        vertical-align: top;\n",
       "    }\n",
       "\n",
       "    .dataframe thead th {\n",
       "        text-align: right;\n",
       "    }\n",
       "</style>\n",
       "<table border=\"1\" class=\"dataframe\">\n",
       "  <thead>\n",
       "    <tr style=\"text-align: right;\">\n",
       "      <th></th>\n",
       "      <th>Unnamed: 0</th>\n",
       "      <th>brand</th>\n",
       "      <th>name</th>\n",
       "      <th>price</th>\n",
       "      <th>image</th>\n",
       "    </tr>\n",
       "  </thead>\n",
       "  <tbody>\n",
       "    <tr>\n",
       "      <th>0</th>\n",
       "      <td>0</td>\n",
       "      <td>nike</td>\n",
       "      <td>AIR FORCE 1 '07 - Trainers - white</td>\n",
       "      <td>£74.99</td>\n",
       "      <td>[[[246 246 246]\\n  [246 246 246]\\n  [246 246 2...</td>\n",
       "    </tr>\n",
       "    <tr>\n",
       "      <th>1</th>\n",
       "      <td>1</td>\n",
       "      <td>nike</td>\n",
       "      <td>AIR FORCE 1 '07 - Trainers - black</td>\n",
       "      <td>£74.99</td>\n",
       "      <td>[[[246 246 246]\\n  [246 246 246]\\n  [246 246 2...</td>\n",
       "    </tr>\n",
       "    <tr>\n",
       "      <th>2</th>\n",
       "      <td>2</td>\n",
       "      <td>nike</td>\n",
       "      <td>AIR MAX 2090 - Trainers - black/white/wolf gre...</td>\n",
       "      <td>£77.99</td>\n",
       "      <td>[[[241 241 241]\\n  [241 241 241]\\n  [241 241 2...</td>\n",
       "    </tr>\n",
       "  </tbody>\n",
       "</table>\n",
       "</div>"
      ],
      "text/plain": [
       "   Unnamed: 0 brand                                               name  \\\n",
       "0           0  nike                 AIR FORCE 1 '07 - Trainers - white   \n",
       "1           1  nike                 AIR FORCE 1 '07 - Trainers - black   \n",
       "2           2  nike  AIR MAX 2090 - Trainers - black/white/wolf gre...   \n",
       "\n",
       "     price                                              image  \n",
       "0   £74.99  [[[246 246 246]\\n  [246 246 246]\\n  [246 246 2...  \n",
       "1   £74.99  [[[246 246 246]\\n  [246 246 246]\\n  [246 246 2...  \n",
       "2   £77.99  [[[241 241 241]\\n  [241 241 241]\\n  [241 241 2...  "
      ]
     },
     "execution_count": 55,
     "metadata": {},
     "output_type": "execute_result"
    }
   ],
   "source": [
    "sneakers.head(3)"
   ]
  },
  {
   "cell_type": "code",
   "execution_count": 56,
   "metadata": {},
   "outputs": [],
   "source": [
    "sneakers['brand'].replace(to_replace='nike', value=0, inplace = True)"
   ]
  },
  {
   "cell_type": "code",
   "execution_count": 57,
   "metadata": {},
   "outputs": [],
   "source": [
    "sneakers['brand'].replace(to_replace='adidas', value=1, inplace = True)"
   ]
  },
  {
   "cell_type": "code",
   "execution_count": 58,
   "metadata": {},
   "outputs": [],
   "source": [
    "import matplotlib.pyplot as plt"
   ]
  },
  {
   "cell_type": "code",
   "execution_count": 59,
   "metadata": {},
   "outputs": [
    {
     "data": {
      "image/png": "[encoded data removed]",
      "text/plain": [
       "<Figure size 432x288 with 1 Axes>"
      ]
     },
     "metadata": {
      "needs_background": "light"
     },
     "output_type": "display_data"
    }
   ],
   "source": [
    "plt.imshow(X[980])\n",
    "plt.show()"
   ]
  },
  {
   "cell_type": "code",
   "execution_count": 60,
   "metadata": {
    "scrolled": true
   },
   "outputs": [
    {
     "data": {
      "text/html": [
       "<div>\n",
       "<style scoped>\n",
       "    .dataframe tbody tr th:only-of-type {\n",
       "        vertical-align: middle;\n",
       "    }\n",
       "\n",
       "    .dataframe tbody tr th {\n",
       "        vertical-align: top;\n",
       "    }\n",
       "\n",
       "    .dataframe thead th {\n",
       "        text-align: right;\n",
       "    }\n",
       "</style>\n",
       "<table border=\"1\" class=\"dataframe\">\n",
       "  <thead>\n",
       "    <tr style=\"text-align: right;\">\n",
       "      <th></th>\n",
       "      <th>Unnamed: 0</th>\n",
       "      <th>brand</th>\n",
       "      <th>name</th>\n",
       "      <th>price</th>\n",
       "      <th>image</th>\n",
       "    </tr>\n",
       "  </thead>\n",
       "  <tbody>\n",
       "    <tr>\n",
       "      <th>0</th>\n",
       "      <td>0</td>\n",
       "      <td>0</td>\n",
       "      <td>AIR FORCE 1 '07 - Trainers - white</td>\n",
       "      <td>£74.99</td>\n",
       "      <td>[[[246 246 246]\\n  [246 246 246]\\n  [246 246 2...</td>\n",
       "    </tr>\n",
       "    <tr>\n",
       "      <th>1</th>\n",
       "      <td>1</td>\n",
       "      <td>0</td>\n",
       "      <td>AIR FORCE 1 '07 - Trainers - black</td>\n",
       "      <td>£74.99</td>\n",
       "      <td>[[[246 246 246]\\n  [246 246 246]\\n  [246 246 2...</td>\n",
       "    </tr>\n",
       "    <tr>\n",
       "      <th>2</th>\n",
       "      <td>2</td>\n",
       "      <td>0</td>\n",
       "      <td>AIR MAX 2090 - Trainers - black/white/wolf gre...</td>\n",
       "      <td>£77.99</td>\n",
       "      <td>[[[241 241 241]\\n  [241 241 241]\\n  [241 241 2...</td>\n",
       "    </tr>\n",
       "    <tr>\n",
       "      <th>3</th>\n",
       "      <td>3</td>\n",
       "      <td>0</td>\n",
       "      <td>REACT 55 SE - Trainers - black/dark grey</td>\n",
       "      <td>£114.99</td>\n",
       "      <td>[[[246 246 246]\\n  [246 246 246]\\n  [246 246 2...</td>\n",
       "    </tr>\n",
       "    <tr>\n",
       "      <th>4</th>\n",
       "      <td>4</td>\n",
       "      <td>0</td>\n",
       "      <td>AIR FORCE 1 GTX UNISEX - Trainers - anthracite...</td>\n",
       "      <td>£129.99</td>\n",
       "      <td>[[[241 241 241]\\n  [241 241 241]\\n  [241 241 2...</td>\n",
       "    </tr>\n",
       "    <tr>\n",
       "      <th>...</th>\n",
       "      <td>...</td>\n",
       "      <td>...</td>\n",
       "      <td>...</td>\n",
       "      <td>...</td>\n",
       "      <td>...</td>\n",
       "    </tr>\n",
       "    <tr>\n",
       "      <th>1843</th>\n",
       "      <td>1843</td>\n",
       "      <td>1</td>\n",
       "      <td>SUPERCOURT - Trainers - savannah/solar red</td>\n",
       "      <td>£55.99</td>\n",
       "      <td>[[[246 246 246]\\n  [246 246 246]\\n  [246 246 2...</td>\n",
       "    </tr>\n",
       "    <tr>\n",
       "      <th>1844</th>\n",
       "      <td>1844</td>\n",
       "      <td>1</td>\n",
       "      <td>COUNTRY OG SHOES - Trainers - white</td>\n",
       "      <td>£69.95</td>\n",
       "      <td>[[[246 246 246]\\n  [246 246 246]\\n  [246 246 2...</td>\n",
       "    </tr>\n",
       "    <tr>\n",
       "      <th>1845</th>\n",
       "      <td>1845</td>\n",
       "      <td>1</td>\n",
       "      <td>X_PLR - Trainers - core black/trace grey metallic</td>\n",
       "      <td>£52.49</td>\n",
       "      <td>[[[246 246 246]\\n  [246 246 246]\\n  [246 246 2...</td>\n",
       "    </tr>\n",
       "    <tr>\n",
       "      <th>1846</th>\n",
       "      <td>1846</td>\n",
       "      <td>1</td>\n",
       "      <td>RIVALRY  - Trainers - footwear white/core black</td>\n",
       "      <td>From £69.95</td>\n",
       "      <td>[[[246 246 246]\\n  [246 246 246]\\n  [246 246 2...</td>\n",
       "    </tr>\n",
       "    <tr>\n",
       "      <th>1847</th>\n",
       "      <td>1847</td>\n",
       "      <td>1</td>\n",
       "      <td>SUPERSTAR FOUNDATION - Trainers - core black</td>\n",
       "      <td>£55.99</td>\n",
       "      <td>[[[246 246 246]\\n  [246 246 246]\\n  [246 246 2...</td>\n",
       "    </tr>\n",
       "  </tbody>\n",
       "</table>\n",
       "<p>1848 rows × 5 columns</p>\n",
       "</div>"
      ],
      "text/plain": [
       "      Unnamed: 0  brand                                               name  \\\n",
       "0              0      0                 AIR FORCE 1 '07 - Trainers - white   \n",
       "1              1      0                 AIR FORCE 1 '07 - Trainers - black   \n",
       "2              2      0  AIR MAX 2090 - Trainers - black/white/wolf gre...   \n",
       "3              3      0           REACT 55 SE - Trainers - black/dark grey   \n",
       "4              4      0  AIR FORCE 1 GTX UNISEX - Trainers - anthracite...   \n",
       "...          ...    ...                                                ...   \n",
       "1843        1843      1         SUPERCOURT - Trainers - savannah/solar red   \n",
       "1844        1844      1                COUNTRY OG SHOES - Trainers - white   \n",
       "1845        1845      1  X_PLR - Trainers - core black/trace grey metallic   \n",
       "1846        1846      1    RIVALRY  - Trainers - footwear white/core black   \n",
       "1847        1847      1       SUPERSTAR FOUNDATION - Trainers - core black   \n",
       "\n",
       "             price                                              image  \n",
       "0           £74.99  [[[246 246 246]\\n  [246 246 246]\\n  [246 246 2...  \n",
       "1           £74.99  [[[246 246 246]\\n  [246 246 246]\\n  [246 246 2...  \n",
       "2           £77.99  [[[241 241 241]\\n  [241 241 241]\\n  [241 241 2...  \n",
       "3          £114.99  [[[246 246 246]\\n  [246 246 246]\\n  [246 246 2...  \n",
       "4          £129.99  [[[241 241 241]\\n  [241 241 241]\\n  [241 241 2...  \n",
       "...            ...                                                ...  \n",
       "1843        £55.99  [[[246 246 246]\\n  [246 246 246]\\n  [246 246 2...  \n",
       "1844        £69.95  [[[246 246 246]\\n  [246 246 246]\\n  [246 246 2...  \n",
       "1845        £52.49  [[[246 246 246]\\n  [246 246 246]\\n  [246 246 2...  \n",
       "1846   From £69.95  [[[246 246 246]\\n  [246 246 246]\\n  [246 246 2...  \n",
       "1847        £55.99  [[[246 246 246]\\n  [246 246 246]\\n  [246 246 2...  \n",
       "\n",
       "[1848 rows x 5 columns]"
      ]
     },
     "execution_count": 60,
     "metadata": {},
     "output_type": "execute_result"
    }
   ],
   "source": [
    "sneakers"
   ]
  },
  {
   "cell_type": "code",
   "execution_count": 61,
   "metadata": {},
   "outputs": [],
   "source": [
    "y = sneakers['brand'].values"
   ]
  },
  {
   "cell_type": "code",
   "execution_count": 62,
   "metadata": {},
   "outputs": [
    {
     "data": {
      "text/plain": [
       "numpy.ndarray"
      ]
     },
     "execution_count": 62,
     "metadata": {},
     "output_type": "execute_result"
    }
   ],
   "source": [
    "type(y)"
   ]
  },
  {
   "cell_type": "code",
   "execution_count": 63,
   "metadata": {},
   "outputs": [
    {
     "data": {
      "text/plain": [
       "(1848,)"
      ]
     },
     "execution_count": 63,
     "metadata": {},
     "output_type": "execute_result"
    }
   ],
   "source": [
    "y.shape"
   ]
  },
  {
   "cell_type": "code",
   "execution_count": 64,
   "metadata": {},
   "outputs": [],
   "source": [
    "from sklearn.model_selection import train_test_split\n",
    "\n",
    "# Split the data\n",
    "X_train, X_test, y_train, y_test = train_test_split(X, y, test_size=0.25, shuffle= True)"
   ]
  },
  {
   "cell_type": "code",
   "execution_count": 101,
   "metadata": {},
   "outputs": [
    {
     "data": {
      "text/plain": [
       "array([[0.9997361]], dtype=float32)"
      ]
     },
     "execution_count": 101,
     "metadata": {},
     "output_type": "execute_result"
    }
   ],
   "source": [
    "# random prediction\n",
    "# model.predict(X_train[462].reshape((1, 200, 200, 3)))"
   ]
  },
  {
   "cell_type": "code",
   "execution_count": null,
   "metadata": {},
   "outputs": [],
   "source": []
  },
  {
   "cell_type": "markdown",
   "metadata": {},
   "source": [
    "## With train_test_split"
   ]
  },
  {
   "cell_type": "code",
   "execution_count": 70,
   "metadata": {},
   "outputs": [
    {
     "name": "stdout",
     "output_type": "stream",
     "text": [
      "Epoch 1/5\n",
      "278/278 [==============================] - 62s 222ms/step - loss: 1.5697 - accuracy: 0.5685 - val_loss: 19.8111 - val_accuracy: 0.6753\n",
      "Epoch 2/5\n",
      "278/278 [==============================] - 62s 222ms/step - loss: 0.5548 - accuracy: 0.7121 - val_loss: 23.4180 - val_accuracy: 0.7965\n",
      "Epoch 3/5\n",
      "278/278 [==============================] - 61s 218ms/step - loss: 0.4094 - accuracy: 0.8001 - val_loss: 39.6045 - val_accuracy: 0.8247\n",
      "Epoch 4/5\n",
      "278/278 [==============================] - 62s 222ms/step - loss: 0.3689 - accuracy: 0.8304 - val_loss: 29.9568 - val_accuracy: 0.7814\n",
      "Epoch 5/5\n",
      "278/278 [==============================] - 64s 229ms/step - loss: 0.2745 - accuracy: 0.8658 - val_loss: 39.9271 - val_accuracy: 0.8030\n"
     ]
    },
    {
     "data": {
      "text/plain": [
       "<tensorflow.python.keras.callbacks.History at 0x27f51d158b0>"
      ]
     },
     "execution_count": 70,
     "metadata": {},
     "output_type": "execute_result"
    }
   ],
   "source": [
    "X_train = X_train/255.0\n",
    "\n",
    "model = Sequential()\n",
    "model.add(Conv2D(64, (3,3), input_shape = (200, 200, 3)))\n",
    "model.add(Activation('relu'))\n",
    "model.add(MaxPooling2D(pool_size=(2,2)))\n",
    "\n",
    "model.add(Conv2D(64, (3,3), input_shape = (200, 200, 3)))\n",
    "model.add(Activation('relu'))\n",
    "model.add(MaxPooling2D(pool_size=(2,2)))\n",
    "\n",
    "model.add(Flatten())\n",
    "model.add(Dense(64))\n",
    "\n",
    "model.add(Dense(1))\n",
    "model.add(Activation('sigmoid'))\n",
    "\n",
    "model.compile(loss='binary_crossentropy',\n",
    "             optimizer='adam',\n",
    "             metrics=['accuracy'])\n",
    "\n",
    "model.fit(X_train, y_train, batch_size=5, epochs = 5, validation_data=(X_test, y_test))"
   ]
  },
  {
   "cell_type": "code",
   "execution_count": 71,
   "metadata": {},
   "outputs": [],
   "source": [
    "# Guardar el Modelo\n",
    "from tensorflow import keras\n",
    "model.save('model8658.h5')\n",
    "\n",
    "# Recrea exactamente el mismo modelo solo desde el archivo\n",
    "\n",
    "# from tensorflow import keras\n",
    "# new_model = keras.models.load_model('model8300.h5')"
   ]
  },
  {
   "cell_type": "code",
   "execution_count": 72,
   "metadata": {},
   "outputs": [
    {
     "name": "stdout",
     "output_type": "stream",
     "text": [
      "Model: \"sequential_1\"\n",
      "_________________________________________________________________\n",
      "Layer (type)                 Output Shape              Param #   \n",
      "=================================================================\n",
      "conv2d_2 (Conv2D)            (None, 198, 198, 64)      1792      \n",
      "_________________________________________________________________\n",
      "activation_3 (Activation)    (None, 198, 198, 64)      0         \n",
      "_________________________________________________________________\n",
      "max_pooling2d_2 (MaxPooling2 (None, 99, 99, 64)        0         \n",
      "_________________________________________________________________\n",
      "conv2d_3 (Conv2D)            (None, 97, 97, 64)        36928     \n",
      "_________________________________________________________________\n",
      "activation_4 (Activation)    (None, 97, 97, 64)        0         \n",
      "_________________________________________________________________\n",
      "max_pooling2d_3 (MaxPooling2 (None, 48, 48, 64)        0         \n",
      "_________________________________________________________________\n",
      "flatten_1 (Flatten)          (None, 147456)            0         \n",
      "_________________________________________________________________\n",
      "dense_2 (Dense)              (None, 64)                9437248   \n",
      "_________________________________________________________________\n",
      "dense_3 (Dense)              (None, 1)                 65        \n",
      "_________________________________________________________________\n",
      "activation_5 (Activation)    (None, 1)                 0         \n",
      "=================================================================\n",
      "Total params: 9,476,033\n",
      "Trainable params: 9,476,033\n",
      "Non-trainable params: 0\n",
      "_________________________________________________________________\n"
     ]
    }
   ],
   "source": [
    "model.summary()"
   ]
  },
  {
   "cell_type": "code",
   "execution_count": null,
   "metadata": {},
   "outputs": [],
   "source": []
  },
  {
   "cell_type": "code",
   "execution_count": 292,
   "metadata": {},
   "outputs": [],
   "source": [
    "# video for the demo\n",
    "# open a link directly after loading the picture"
   ]
  },
  {
   "cell_type": "code",
   "execution_count": 272,
   "metadata": {},
   "outputs": [],
   "source": [
    "# look into scraping the link"
   ]
  },
  {
   "cell_type": "code",
   "execution_count": 269,
   "metadata": {},
   "outputs": [],
   "source": [
    "# layers"
   ]
  },
  {
   "cell_type": "code",
   "execution_count": null,
   "metadata": {},
   "outputs": [],
   "source": [
    "# pca"
   ]
  },
  {
   "cell_type": "code",
   "execution_count": 268,
   "metadata": {},
   "outputs": [],
   "source": [
    "# stop it if acc drops"
   ]
  },
  {
   "cell_type": "code",
   "execution_count": null,
   "metadata": {},
   "outputs": [],
   "source": [
    "# from tensorflow import keras\n",
    "# Guardar el Modelo\n",
    "# model.save('path_to_my_model.h5')\n",
    "# Recrea exactamente el mismo modelo solo desde el archivo\n",
    "# new_model = keras.models.load_model('path_to_my_model.h5')"
   ]
  },
  {
   "cell_type": "code",
   "execution_count": 273,
   "metadata": {},
   "outputs": [],
   "source": [
    "# explain dl flaws"
   ]
  },
  {
   "cell_type": "code",
   "execution_count": null,
   "metadata": {},
   "outputs": [],
   "source": []
  },
  {
   "cell_type": "code",
   "execution_count": null,
   "metadata": {},
   "outputs": [],
   "source": [
    "X = X/255.0\n",
    "\n",
    "model = Sequential()\n",
    "model.add(Conv2D(64, (3,3), input_shape = (200, 200, 3)))\n",
    "model.add(Activation('relu'))\n",
    "model.add(MaxPooling2D(pool_size=(2,2)))\n",
    "\n",
    "model.add(Conv2D(64, (3,3), input_shape = (200, 200, 3)))\n",
    "model.add(Activation('relu'))\n",
    "model.add(MaxPooling2D(pool_size=(2,2)))\n",
    "\n",
    "model.add(Flatten())\n",
    "model.add(Dense(64))\n",
    "\n",
    "model.add(Dense(1))\n",
    "model.add(Activation('sigmoid'))\n",
    "\n",
    "model.compile(loss='binary_crossentropy',\n",
    "             optimizer='adam',\n",
    "             metrics=['accuracy'])\n",
    "\n",
    "model.fit(X, y, batch_size=10, epochs = 3, validation_split=0.1)"
   ]
  }
 ],
 "metadata": {
  "kernelspec": {
   "display_name": "Python 3",
   "language": "python",
   "name": "python3"
  },
  "language_info": {
   "codemirror_mode": {
    "name": "ipython",
    "version": 3
   },
   "file_extension": ".py",
   "mimetype": "text/x-python",
   "name": "python",
   "nbconvert_exporter": "python",
   "pygments_lexer": "ipython3",
   "version": "3.8.6"
  }
 },
 "nbformat": 4,
 "nbformat_minor": 4
}
