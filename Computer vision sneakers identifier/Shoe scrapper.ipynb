{
 "cells": [
  {
   "cell_type": "markdown",
   "metadata": {},
   "source": [
    "# Image recognition program that returns the brand of a shoe"
   ]
  },
  {
   "cell_type": "markdown",
   "metadata": {},
   "source": [
    "## Web scraping zalando"
   ]
  },
  {
   "cell_type": "code",
   "execution_count": 1,
   "metadata": {},
   "outputs": [],
   "source": [
    "import os\n",
    "from time import sleep\n",
    "import numpy as np\n",
    "import pandas as pd\n",
    "from selenium import webdriver\n",
    "from bs4 import *\n",
    "import requests"
   ]
  },
  {
   "cell_type": "code",
   "execution_count": 2,
   "metadata": {},
   "outputs": [],
   "source": [
    "path = r'C:\\Users\\Erik\\ErikRepo\\Project-Week-8-Final-Project\\chromedriver.exe'"
   ]
  },
  {
   "cell_type": "code",
   "execution_count": 3,
   "metadata": {
    "scrolled": false
   },
   "outputs": [],
   "source": [
    "# Select each item\n",
    "# item_selector = soup.select('.qMZa55.SQGpu8.iOzucJ.JT3_zV.DvypSJ')"
   ]
  },
  {
   "cell_type": "code",
   "execution_count": 4,
   "metadata": {},
   "outputs": [],
   "source": [
    "# len(item_selector)\n",
    "# 84"
   ]
  },
  {
   "cell_type": "code",
   "execution_count": 5,
   "metadata": {},
   "outputs": [],
   "source": [
    "# os.mkdir('shoe pics')\n",
    "i = 1"
   ]
  },
  {
   "cell_type": "code",
   "execution_count": 6,
   "metadata": {},
   "outputs": [],
   "source": [
    "# img_links"
   ]
  },
  {
   "cell_type": "markdown",
   "metadata": {},
   "source": [
    "### Brand name"
   ]
  },
  {
   "cell_type": "code",
   "execution_count": 7,
   "metadata": {},
   "outputs": [],
   "source": [
    "# item_selector[0].select('.u-6V88.ka2E9k.uMhVZi.FxZV-M.uc9Eq5.pVrzNP.ZkIJC-.r9BRio.qXofat.EKabf7')[0].text"
   ]
  },
  {
   "cell_type": "markdown",
   "metadata": {},
   "source": [
    "### Shoe name"
   ]
  },
  {
   "cell_type": "code",
   "execution_count": 8,
   "metadata": {
    "scrolled": true
   },
   "outputs": [],
   "source": [
    "# item_selector[0].select('.u-6V88.ka2E9k.uMhVZi.FxZV-M.z-oVg8.pVrzNP.ZkIJC-.r9BRio.qXofat.EKabf7')[0].text"
   ]
  },
  {
   "cell_type": "markdown",
   "metadata": {},
   "source": [
    "### Price"
   ]
  },
  {
   "cell_type": "code",
   "execution_count": 9,
   "metadata": {},
   "outputs": [],
   "source": [
    "# item_selector[0].select('.u-6V88.ka2E9k.uMhVZi.FxZV-M.z-oVg8.pVrzNP.cMfkVL')[0].text"
   ]
  },
  {
   "cell_type": "code",
   "execution_count": 10,
   "metadata": {},
   "outputs": [],
   "source": [
    "# select an image\n",
    "# item_selector[0].select('img[src^=\"https://img01.ztat.net/article/spp-media-p1/\"]')[0][\"src\"]"
   ]
  },
  {
   "cell_type": "code",
   "execution_count": null,
   "metadata": {},
   "outputs": [],
   "source": []
  },
  {
   "cell_type": "code",
   "execution_count": null,
   "metadata": {},
   "outputs": [],
   "source": []
  },
  {
   "cell_type": "code",
   "execution_count": 11,
   "metadata": {},
   "outputs": [],
   "source": [
    "brand_nike = []\n",
    "name_nike = []\n",
    "price_nike = []\n",
    "url_nike = []\n",
    "img_links_nike = []"
   ]
  },
  {
   "cell_type": "code",
   "execution_count": 12,
   "metadata": {
    "scrolled": true
   },
   "outputs": [],
   "source": [
    "# Nike webscraper\n",
    "\n",
    "url_nike = 'https://www.zalando.co.uk/men/?q=nike+shoes&p='\n",
    "\n",
    "for page in range(1,11):\n",
    "    url_nike = 'https://www.zalando.co.uk/men/?q=nike+shoes&p='+str(page)\n",
    "    browser = webdriver.Chrome(path)\n",
    "    browser.get(url_nike)\n",
    "    sleep(3)\n",
    "    soup = BeautifulSoup(browser.page_source,'lxml')\n",
    "    x = soup.select('img[src^=\"https://img01.ztat.net/article/spp-media-p1/\"]')\n",
    "    browser.close()\n",
    "    item_selector = soup.select('.qMZa55.SQGpu8.iOzucJ.JT3_zV.DvypSJ')\n",
    "    \n",
    "    for img in x:\n",
    "        img_links_nike.append(img['src'])\n",
    "\n",
    "    for index, img_link in enumerate(img_links_nike):\n",
    "        img_data_nike = requests.get(img_link).content\n",
    "        with open('sneakers pics copy/nike pics copy/'+str(index+1)+'.jpg', 'wb+') as f:\n",
    "            f.write(img_data_nike)\n",
    "\n",
    "    for item in item_selector:\n",
    "        try:\n",
    "            brand_nike.append(item.select('.u-6V88.ka2E9k.uMhVZi.FxZV-M.uc9Eq5.pVrzNP.ZkIJC-.r9BRio.qXofat.EKabf7')[0].text)\n",
    "            name_nike.append(item.select('.u-6V88.ka2E9k.uMhVZi.FxZV-M.z-oVg8.pVrzNP.ZkIJC-.r9BRio.qXofat.EKabf7')[0].text)        \n",
    "            price_nike.append(item.select('.u-6V88.ka2E9k.uMhVZi.FxZV-M.z-oVg8.pVrzNP.cMfkVL')[0].text)\n",
    "            url_nike.append('https://www.zalando.co.uk'+str(item.select('.g88eG_.oHRBzn.LyRfpJ.JT3_zV.g88eG_.ONArL-._2dqvZS.lfPP-F')[0]['href']))\n",
    "        except:\n",
    "            price_nike.append(item.select('.u-6V88.ka2E9k.uMhVZi.dgII7d.z-oVg8._88STHx.cMfkVL')[0].text)"
   ]
  },
  {
   "cell_type": "code",
   "execution_count": 13,
   "metadata": {
    "scrolled": true
   },
   "outputs": [
    {
     "data": {
      "text/plain": [
       "840"
      ]
     },
     "execution_count": 13,
     "metadata": {},
     "output_type": "execute_result"
    }
   ],
   "source": [
    "len(brand_nike)"
   ]
  },
  {
   "cell_type": "code",
   "execution_count": 14,
   "metadata": {},
   "outputs": [
    {
     "data": {
      "text/plain": [
       "840"
      ]
     },
     "execution_count": 14,
     "metadata": {},
     "output_type": "execute_result"
    }
   ],
   "source": [
    "len(name_nike)"
   ]
  },
  {
   "cell_type": "code",
   "execution_count": 15,
   "metadata": {},
   "outputs": [
    {
     "data": {
      "text/plain": [
       "840"
      ]
     },
     "execution_count": 15,
     "metadata": {},
     "output_type": "execute_result"
    }
   ],
   "source": [
    "len(price_nike)"
   ]
  },
  {
   "cell_type": "code",
   "execution_count": 16,
   "metadata": {
    "scrolled": true
   },
   "outputs": [
    {
     "data": {
      "text/html": [
       "<div>\n",
       "<style scoped>\n",
       "    .dataframe tbody tr th:only-of-type {\n",
       "        vertical-align: middle;\n",
       "    }\n",
       "\n",
       "    .dataframe tbody tr th {\n",
       "        vertical-align: top;\n",
       "    }\n",
       "\n",
       "    .dataframe thead th {\n",
       "        text-align: right;\n",
       "    }\n",
       "</style>\n",
       "<table border=\"1\" class=\"dataframe\">\n",
       "  <thead>\n",
       "    <tr style=\"text-align: right;\">\n",
       "      <th></th>\n",
       "      <th>brand</th>\n",
       "      <th>name</th>\n",
       "      <th>price</th>\n",
       "    </tr>\n",
       "  </thead>\n",
       "  <tbody>\n",
       "    <tr>\n",
       "      <th>0</th>\n",
       "      <td>Nike Sportswear</td>\n",
       "      <td>AIR FORCE 1 '07 - Trainers - white</td>\n",
       "      <td>£74.99</td>\n",
       "    </tr>\n",
       "    <tr>\n",
       "      <th>1</th>\n",
       "      <td>Nike Sportswear</td>\n",
       "      <td>AIR FORCE 1 '07 - Trainers - black</td>\n",
       "      <td>£74.99</td>\n",
       "    </tr>\n",
       "    <tr>\n",
       "      <th>2</th>\n",
       "      <td>Nike Sportswear</td>\n",
       "      <td>AIR MAX 2090 - Trainers - black/white/wolf gre...</td>\n",
       "      <td>£77.99</td>\n",
       "    </tr>\n",
       "    <tr>\n",
       "      <th>3</th>\n",
       "      <td>Nike Sportswear</td>\n",
       "      <td>REACT 55 SE - Trainers - black/dark grey</td>\n",
       "      <td>£114.99</td>\n",
       "    </tr>\n",
       "    <tr>\n",
       "      <th>4</th>\n",
       "      <td>Nike Sportswear</td>\n",
       "      <td>AIR FORCE 1 GTX UNISEX - Trainers - anthracite...</td>\n",
       "      <td>£129.99</td>\n",
       "    </tr>\n",
       "  </tbody>\n",
       "</table>\n",
       "</div>"
      ],
      "text/plain": [
       "             brand                                               name  \\\n",
       "0  Nike Sportswear                 AIR FORCE 1 '07 - Trainers - white   \n",
       "1  Nike Sportswear                 AIR FORCE 1 '07 - Trainers - black   \n",
       "2  Nike Sportswear  AIR MAX 2090 - Trainers - black/white/wolf gre...   \n",
       "3  Nike Sportswear           REACT 55 SE - Trainers - black/dark grey   \n",
       "4  Nike Sportswear  AIR FORCE 1 GTX UNISEX - Trainers - anthracite...   \n",
       "\n",
       "      price  \n",
       "0    £74.99  \n",
       "1    £74.99  \n",
       "2    £77.99  \n",
       "3   £114.99  \n",
       "4   £129.99  "
      ]
     },
     "execution_count": 16,
     "metadata": {},
     "output_type": "execute_result"
    }
   ],
   "source": [
    "nike_copy = pd.DataFrame({'brand':brand_nike, 'name':name_nike, 'price':price_nike})\n",
    "\n",
    "nike_copy.head(5)"
   ]
  },
  {
   "cell_type": "code",
   "execution_count": 17,
   "metadata": {},
   "outputs": [],
   "source": [
    "nike_copy.to_csv('nike_shoes_copy.csv')"
   ]
  },
  {
   "cell_type": "code",
   "execution_count": 18,
   "metadata": {},
   "outputs": [
    {
     "data": {
      "text/plain": [
       "Nike Performance    486\n",
       "Nike Sportswear     306\n",
       "Nike SB              42\n",
       "Nike Golf             6\n",
       "Name: brand, dtype: int64"
      ]
     },
     "execution_count": 18,
     "metadata": {},
     "output_type": "execute_result"
    }
   ],
   "source": [
    "nike_copy['brand'].value_counts()"
   ]
  },
  {
   "cell_type": "code",
   "execution_count": 19,
   "metadata": {},
   "outputs": [],
   "source": [
    "brand_adidas = []\n",
    "name_adidas = []\n",
    "price_adidas = []\n",
    "url_adidas = []\n",
    "img_links_adidas = []"
   ]
  },
  {
   "cell_type": "code",
   "execution_count": 20,
   "metadata": {},
   "outputs": [],
   "source": [
    "# Adidas webscraper\n",
    "\n",
    "url_adidas = 'https://www.zalando.co.uk/men/?q=adidas+shoes&p='\n",
    "\n",
    "for page in range(1,13):\n",
    "    url_adidas = 'https://www.zalando.co.uk/men/?q=adidas+shoes&p='+str(page)\n",
    "    browser = webdriver.Chrome(path)\n",
    "    browser.get(url_adidas)\n",
    "    sleep(3)\n",
    "    soup = BeautifulSoup(browser.page_source,'lxml')\n",
    "    x = soup.select('img[src^=\"https://img01.ztat.net/article/spp-media-p1/\"]')\n",
    "    browser.close()\n",
    "    item_selector = soup.select('.qMZa55.SQGpu8.iOzucJ.JT3_zV.DvypSJ')\n",
    "    \n",
    "    for img in x:\n",
    "        img_links_adidas.append(img['src'])\n",
    "\n",
    "    for index, img_link in enumerate(img_links_adidas):\n",
    "        img_data_adidas = requests.get(img_link).content\n",
    "        with open('sneakers pics copy/adidas pics copy/'+str(index+1)+'.jpg', 'wb+') as f:\n",
    "            f.write(img_data_adidas)\n",
    "\n",
    "    for item in item_selector:\n",
    "        try:\n",
    "            brand_adidas.append(item.select('.u-6V88.ka2E9k.uMhVZi.FxZV-M.uc9Eq5.pVrzNP.ZkIJC-.r9BRio.qXofat.EKabf7')[0].text)\n",
    "            name_adidas.append(item.select('.u-6V88.ka2E9k.uMhVZi.FxZV-M.z-oVg8.pVrzNP.ZkIJC-.r9BRio.qXofat.EKabf7')[0].text)        \n",
    "            price_adidas.append(item.select('.u-6V88.ka2E9k.uMhVZi.FxZV-M.z-oVg8.pVrzNP.cMfkVL')[0].text)\n",
    "            url_adidas.append('https://www.zalando.co.uk'+str(item.select('.g88eG_.oHRBzn.LyRfpJ.JT3_zV.g88eG_.ONArL-._2dqvZS.lfPP-F')[0]['href']))\n",
    "        except:\n",
    "            price_adidas.append(item.select('.u-6V88.ka2E9k.uMhVZi.dgII7d.z-oVg8._88STHx.cMfkVL')[0].text)"
   ]
  },
  {
   "cell_type": "code",
   "execution_count": 31,
   "metadata": {},
   "outputs": [],
   "source": [
    "import webbrowser"
   ]
  },
  {
   "cell_type": "code",
   "execution_count": 37,
   "metadata": {},
   "outputs": [
    {
     "data": {
      "text/plain": [
       "True"
      ]
     },
     "execution_count": 37,
     "metadata": {},
     "output_type": "execute_result"
    }
   ],
   "source": [
    "webbrowser.open('https://www.zalando.co.uk'+str(item_selector[0].select('.g88eG_.oHRBzn.LyRfpJ.JT3_zV.g88eG_.ONArL-._2dqvZS.lfPP-F')[0]['href']))"
   ]
  },
  {
   "cell_type": "code",
   "execution_count": null,
   "metadata": {},
   "outputs": [],
   "source": [
    "item_selector[0].select('.g88eG_.oHRBzn.LyRfpJ.JT3_zV.g88eG_.ONArL-._2dqvZS.lfPP-F')[0]['href']"
   ]
  },
  {
   "cell_type": "code",
   "execution_count": 21,
   "metadata": {},
   "outputs": [
    {
     "data": {
      "text/plain": [
       "1008"
      ]
     },
     "execution_count": 21,
     "metadata": {},
     "output_type": "execute_result"
    }
   ],
   "source": [
    "len(brand_adidas)"
   ]
  },
  {
   "cell_type": "code",
   "execution_count": 22,
   "metadata": {},
   "outputs": [
    {
     "data": {
      "text/plain": [
       "1008"
      ]
     },
     "execution_count": 22,
     "metadata": {},
     "output_type": "execute_result"
    }
   ],
   "source": [
    "len(name_adidas)"
   ]
  },
  {
   "cell_type": "code",
   "execution_count": 23,
   "metadata": {},
   "outputs": [
    {
     "data": {
      "text/plain": [
       "1008"
      ]
     },
     "execution_count": 23,
     "metadata": {},
     "output_type": "execute_result"
    }
   ],
   "source": [
    "len(price_adidas)"
   ]
  },
  {
   "cell_type": "code",
   "execution_count": 24,
   "metadata": {},
   "outputs": [
    {
     "data": {
      "text/html": [
       "<div>\n",
       "<style scoped>\n",
       "    .dataframe tbody tr th:only-of-type {\n",
       "        vertical-align: middle;\n",
       "    }\n",
       "\n",
       "    .dataframe tbody tr th {\n",
       "        vertical-align: top;\n",
       "    }\n",
       "\n",
       "    .dataframe thead th {\n",
       "        text-align: right;\n",
       "    }\n",
       "</style>\n",
       "<table border=\"1\" class=\"dataframe\">\n",
       "  <thead>\n",
       "    <tr style=\"text-align: right;\">\n",
       "      <th></th>\n",
       "      <th>brand</th>\n",
       "      <th>name</th>\n",
       "      <th>price</th>\n",
       "    </tr>\n",
       "  </thead>\n",
       "  <tbody>\n",
       "    <tr>\n",
       "      <th>0</th>\n",
       "      <td>adidas Performance</td>\n",
       "      <td>SAMBA LEATHER FOOTBALL SHOES INDOOR - Trainers...</td>\n",
       "      <td>£46.74</td>\n",
       "    </tr>\n",
       "    <tr>\n",
       "      <th>1</th>\n",
       "      <td>adidas Originals</td>\n",
       "      <td>X9000L3 BOOST SPORTS RUNNING SHOES UNISEX - Tr...</td>\n",
       "      <td>£52.50</td>\n",
       "    </tr>\n",
       "    <tr>\n",
       "      <th>2</th>\n",
       "      <td>adidas Originals</td>\n",
       "      <td>OZWEEGO - Trainers - core black/carbon</td>\n",
       "      <td>From £62.99</td>\n",
       "    </tr>\n",
       "    <tr>\n",
       "      <th>3</th>\n",
       "      <td>adidas Originals</td>\n",
       "      <td>LACOMBE - Trainers - footwear white/core black...</td>\n",
       "      <td>£42.50</td>\n",
       "    </tr>\n",
       "    <tr>\n",
       "      <th>4</th>\n",
       "      <td>adidas Originals</td>\n",
       "      <td>Trainers - core black/grey one/grey six</td>\n",
       "      <td>£40.00</td>\n",
       "    </tr>\n",
       "  </tbody>\n",
       "</table>\n",
       "</div>"
      ],
      "text/plain": [
       "                brand                                               name  \\\n",
       "0  adidas Performance  SAMBA LEATHER FOOTBALL SHOES INDOOR - Trainers...   \n",
       "1    adidas Originals  X9000L3 BOOST SPORTS RUNNING SHOES UNISEX - Tr...   \n",
       "2    adidas Originals             OZWEEGO - Trainers - core black/carbon   \n",
       "3    adidas Originals  LACOMBE - Trainers - footwear white/core black...   \n",
       "4    adidas Originals            Trainers - core black/grey one/grey six   \n",
       "\n",
       "          price  \n",
       "0        £46.74  \n",
       "1        £52.50  \n",
       "2   From £62.99  \n",
       "3        £42.50  \n",
       "4        £40.00  "
      ]
     },
     "execution_count": 24,
     "metadata": {},
     "output_type": "execute_result"
    }
   ],
   "source": [
    "adidas_copy = pd.DataFrame({'brand':brand_adidas, 'name':name_adidas, 'price':price_adidas})\n",
    "\n",
    "adidas_copy.head(5)"
   ]
  },
  {
   "cell_type": "code",
   "execution_count": 25,
   "metadata": {},
   "outputs": [],
   "source": [
    "adidas_copy.to_csv('adidas_shoes_copy.csv')"
   ]
  },
  {
   "cell_type": "code",
   "execution_count": 26,
   "metadata": {
    "scrolled": false
   },
   "outputs": [
    {
     "data": {
      "text/plain": [
       "adidas Performance    558\n",
       "adidas Originals      445\n",
       "adidas Golf             5\n",
       "Name: brand, dtype: int64"
      ]
     },
     "execution_count": 26,
     "metadata": {},
     "output_type": "execute_result"
    }
   ],
   "source": [
    "adidas_copy['brand'].value_counts()"
   ]
  },
  {
   "cell_type": "code",
   "execution_count": 27,
   "metadata": {},
   "outputs": [
    {
     "data": {
      "text/html": [
       "<div>\n",
       "<style scoped>\n",
       "    .dataframe tbody tr th:only-of-type {\n",
       "        vertical-align: middle;\n",
       "    }\n",
       "\n",
       "    .dataframe tbody tr th {\n",
       "        vertical-align: top;\n",
       "    }\n",
       "\n",
       "    .dataframe thead th {\n",
       "        text-align: right;\n",
       "    }\n",
       "</style>\n",
       "<table border=\"1\" class=\"dataframe\">\n",
       "  <thead>\n",
       "    <tr style=\"text-align: right;\">\n",
       "      <th></th>\n",
       "      <th>brand</th>\n",
       "      <th>name</th>\n",
       "      <th>price</th>\n",
       "    </tr>\n",
       "  </thead>\n",
       "  <tbody>\n",
       "    <tr>\n",
       "      <th>0</th>\n",
       "      <td>adidas Performance</td>\n",
       "      <td>SAMBA LEATHER FOOTBALL SHOES INDOOR - Trainers...</td>\n",
       "      <td>£46.74</td>\n",
       "    </tr>\n",
       "    <tr>\n",
       "      <th>1</th>\n",
       "      <td>adidas Originals</td>\n",
       "      <td>X9000L3 BOOST SPORTS RUNNING SHOES UNISEX - Tr...</td>\n",
       "      <td>£52.50</td>\n",
       "    </tr>\n",
       "    <tr>\n",
       "      <th>2</th>\n",
       "      <td>adidas Originals</td>\n",
       "      <td>OZWEEGO - Trainers - core black/carbon</td>\n",
       "      <td>From £62.99</td>\n",
       "    </tr>\n",
       "    <tr>\n",
       "      <th>3</th>\n",
       "      <td>adidas Originals</td>\n",
       "      <td>LACOMBE - Trainers - footwear white/core black...</td>\n",
       "      <td>£42.50</td>\n",
       "    </tr>\n",
       "    <tr>\n",
       "      <th>4</th>\n",
       "      <td>adidas Originals</td>\n",
       "      <td>Trainers - core black/grey one/grey six</td>\n",
       "      <td>£40.00</td>\n",
       "    </tr>\n",
       "  </tbody>\n",
       "</table>\n",
       "</div>"
      ],
      "text/plain": [
       "                brand                                               name  \\\n",
       "0  adidas Performance  SAMBA LEATHER FOOTBALL SHOES INDOOR - Trainers...   \n",
       "1    adidas Originals  X9000L3 BOOST SPORTS RUNNING SHOES UNISEX - Tr...   \n",
       "2    adidas Originals             OZWEEGO - Trainers - core black/carbon   \n",
       "3    adidas Originals  LACOMBE - Trainers - footwear white/core black...   \n",
       "4    adidas Originals            Trainers - core black/grey one/grey six   \n",
       "\n",
       "          price  \n",
       "0        £46.74  \n",
       "1        £52.50  \n",
       "2   From £62.99  \n",
       "3        £42.50  \n",
       "4        £40.00  "
      ]
     },
     "execution_count": 27,
     "metadata": {},
     "output_type": "execute_result"
    }
   ],
   "source": [
    "adidas_copy.head(5)"
   ]
  },
  {
   "cell_type": "code",
   "execution_count": 28,
   "metadata": {},
   "outputs": [],
   "source": [
    "# webcam\n",
    "# adidas & nike as a first approach"
   ]
  },
  {
   "cell_type": "code",
   "execution_count": 41,
   "metadata": {},
   "outputs": [
    {
     "data": {
      "text/html": [
       "<div>\n",
       "<style scoped>\n",
       "    .dataframe tbody tr th:only-of-type {\n",
       "        vertical-align: middle;\n",
       "    }\n",
       "\n",
       "    .dataframe tbody tr th {\n",
       "        vertical-align: top;\n",
       "    }\n",
       "\n",
       "    .dataframe thead th {\n",
       "        text-align: right;\n",
       "    }\n",
       "</style>\n",
       "<table border=\"1\" class=\"dataframe\">\n",
       "  <thead>\n",
       "    <tr style=\"text-align: right;\">\n",
       "      <th></th>\n",
       "      <th>brand</th>\n",
       "      <th>name</th>\n",
       "      <th>price</th>\n",
       "    </tr>\n",
       "  </thead>\n",
       "  <tbody>\n",
       "    <tr>\n",
       "      <th>0</th>\n",
       "      <td>adidas Performance</td>\n",
       "      <td>SAMBA LEATHER FOOTBALL SHOES INDOOR - Trainers...</td>\n",
       "      <td>£46.74</td>\n",
       "    </tr>\n",
       "    <tr>\n",
       "      <th>1</th>\n",
       "      <td>adidas Originals</td>\n",
       "      <td>X9000L3 BOOST SPORTS RUNNING SHOES UNISEX - Tr...</td>\n",
       "      <td>£52.50</td>\n",
       "    </tr>\n",
       "    <tr>\n",
       "      <th>2</th>\n",
       "      <td>adidas Originals</td>\n",
       "      <td>OZWEEGO - Trainers - core black/carbon</td>\n",
       "      <td>From £62.99</td>\n",
       "    </tr>\n",
       "    <tr>\n",
       "      <th>3</th>\n",
       "      <td>adidas Originals</td>\n",
       "      <td>LACOMBE - Trainers - footwear white/core black...</td>\n",
       "      <td>£42.50</td>\n",
       "    </tr>\n",
       "    <tr>\n",
       "      <th>4</th>\n",
       "      <td>adidas Originals</td>\n",
       "      <td>Trainers - core black/grey one/grey six</td>\n",
       "      <td>£40.00</td>\n",
       "    </tr>\n",
       "    <tr>\n",
       "      <th>...</th>\n",
       "      <td>...</td>\n",
       "      <td>...</td>\n",
       "      <td>...</td>\n",
       "    </tr>\n",
       "    <tr>\n",
       "      <th>1003</th>\n",
       "      <td>adidas Originals</td>\n",
       "      <td>SUPERCOURT - Trainers - savannah/solar red</td>\n",
       "      <td>£55.99</td>\n",
       "    </tr>\n",
       "    <tr>\n",
       "      <th>1004</th>\n",
       "      <td>adidas Originals</td>\n",
       "      <td>COUNTRY OG SHOES - Trainers - white</td>\n",
       "      <td>£69.95</td>\n",
       "    </tr>\n",
       "    <tr>\n",
       "      <th>1005</th>\n",
       "      <td>adidas Originals</td>\n",
       "      <td>X_PLR - Trainers - core black/trace grey metallic</td>\n",
       "      <td>£52.49</td>\n",
       "    </tr>\n",
       "    <tr>\n",
       "      <th>1006</th>\n",
       "      <td>adidas Originals</td>\n",
       "      <td>RIVALRY  - Trainers - footwear white/core black</td>\n",
       "      <td>From £69.95</td>\n",
       "    </tr>\n",
       "    <tr>\n",
       "      <th>1007</th>\n",
       "      <td>adidas Originals</td>\n",
       "      <td>SUPERSTAR FOUNDATION - Trainers - core black</td>\n",
       "      <td>£55.99</td>\n",
       "    </tr>\n",
       "  </tbody>\n",
       "</table>\n",
       "<p>1008 rows × 3 columns</p>\n",
       "</div>"
      ],
      "text/plain": [
       "                   brand                                               name  \\\n",
       "0     adidas Performance  SAMBA LEATHER FOOTBALL SHOES INDOOR - Trainers...   \n",
       "1       adidas Originals  X9000L3 BOOST SPORTS RUNNING SHOES UNISEX - Tr...   \n",
       "2       adidas Originals             OZWEEGO - Trainers - core black/carbon   \n",
       "3       adidas Originals  LACOMBE - Trainers - footwear white/core black...   \n",
       "4       adidas Originals            Trainers - core black/grey one/grey six   \n",
       "...                  ...                                                ...   \n",
       "1003    adidas Originals         SUPERCOURT - Trainers - savannah/solar red   \n",
       "1004    adidas Originals                COUNTRY OG SHOES - Trainers - white   \n",
       "1005    adidas Originals  X_PLR - Trainers - core black/trace grey metallic   \n",
       "1006    adidas Originals    RIVALRY  - Trainers - footwear white/core black   \n",
       "1007    adidas Originals       SUPERSTAR FOUNDATION - Trainers - core black   \n",
       "\n",
       "             price  \n",
       "0           £46.74  \n",
       "1           £52.50  \n",
       "2      From £62.99  \n",
       "3           £42.50  \n",
       "4           £40.00  \n",
       "...            ...  \n",
       "1003        £55.99  \n",
       "1004        £69.95  \n",
       "1005        £52.49  \n",
       "1006   From £69.95  \n",
       "1007        £55.99  \n",
       "\n",
       "[1008 rows x 3 columns]"
      ]
     },
     "execution_count": 41,
     "metadata": {},
     "output_type": "execute_result"
    }
   ],
   "source": [
    "adidas_copy.head(1050)"
   ]
  },
  {
   "cell_type": "code",
   "execution_count": null,
   "metadata": {},
   "outputs": [],
   "source": []
  },
  {
   "cell_type": "code",
   "execution_count": null,
   "metadata": {},
   "outputs": [],
   "source": []
  },
  {
   "cell_type": "code",
   "execution_count": null,
   "metadata": {},
   "outputs": [],
   "source": []
  },
  {
   "cell_type": "code",
   "execution_count": null,
   "metadata": {},
   "outputs": [],
   "source": []
  }
 ],
 "metadata": {
  "kernelspec": {
   "display_name": "Python 3",
   "language": "python",
   "name": "python3"
  },
  "language_info": {
   "codemirror_mode": {
    "name": "ipython",
    "version": 3
   },
   "file_extension": ".py",
   "mimetype": "text/x-python",
   "name": "python",
   "nbconvert_exporter": "python",
   "pygments_lexer": "ipython3",
   "version": "3.8.6"
  }
 },
 "nbformat": 4,
 "nbformat_minor": 4
}
